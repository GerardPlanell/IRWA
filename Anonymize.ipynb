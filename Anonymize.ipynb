{
 "cells": [
  {
   "cell_type": "code",
   "execution_count": 1,
   "metadata": {},
   "outputs": [],
   "source": [
    "import hashlib\n",
    "import pandas as pd\n",
    "import math \n",
    "import re\n",
    "import random"
   ]
  },
  {
   "cell_type": "code",
   "execution_count": 2,
   "metadata": {},
   "outputs": [],
   "source": [
    "# Load data\n",
    "csv_file_data = 'Data/Output_v5_data.csv'\n",
    "data_raw = pd.read_csv(csv_file_data, quotechar='\"',low_memory=False)\n",
    "\n",
    "#Ther was a bug in these 3 user so we put them the mean\n",
    "data_raw=data_raw[data_raw['user_followers'].str.isdigit()]\n",
    "data_raw['user_followers']=data_raw['user_followers'].astype('int64')\n",
    "# We delete duplicates\n",
    "data_raw.drop_duplicates(subset='url',keep='last',inplace=True)\n"
   ]
  },
  {
   "cell_type": "code",
   "execution_count": 3,
   "metadata": {},
   "outputs": [],
   "source": [
    "data_raw.drop(1308012,inplace=True)\n",
    "data_raw.favorite_count=data_raw.favorite_count.astype('int64')\n"
   ]
  },
  {
   "cell_type": "code",
   "execution_count": 4,
   "metadata": {},
   "outputs": [],
   "source": [
    "\n",
    "#Anonimize user names\n",
    "data_raw['user_screen_name']=data_raw['user_screen_name'].apply(lambda x: str(hashlib.md5(x.encode()).hexdigest()))\n",
    "data_raw['text'] = data_raw['text'].apply(lambda x: re.sub(r\"(?!(@realDonaldTrump)|(@JoeBiden))(@[A-Za-z0-9]+)\", \"\", x))\n",
    "\n",
    "#Anonimize user followers computing an index that weare going to use later to rank base in who has more user has more relevance\n",
    "maxim = int(data_raw.quantile(q=0.95,axis=0).user_followers)\n",
    "reg = random.randint(2000,2500) #To start the log in a random posicion\n",
    "data_raw['user_followers_index']=data_raw['user_followers'].apply(lambda x: (math.log(x+reg,maxim)))\n",
    "#data_raw.drop(['user_followers'],axis=1,inplace=True)\n",
    "#seve the data\n",
    "csv_file_data = 'Data/Output_v5_data_anonim.csv'\n",
    "data_raw.to_csv(csv_file_data, quotechar='\"', index=False)\n"
   ]
  },
  {
   "cell_type": "code",
   "execution_count": 5,
   "metadata": {},
   "outputs": [
    {
     "data": {
      "text/plain": [
       "<seaborn.axisgrid.FacetGrid at 0x16546ed8780>"
      ]
     },
     "execution_count": 5,
     "metadata": {},
     "output_type": "execute_result"
    },
    {
     "data": {
      "image/png": "[encoded data removed]",
      "text/plain": [
       "<Figure size 360x360 with 1 Axes>"
      ]
     },
     "metadata": {
      "needs_background": "light"
     },
     "output_type": "display_data"
    }
   ],
   "source": [
    "import seaborn as sns\n",
    "sns.displot(data_raw, x=\"user_followers_index\")"
   ]
  },
  {
   "cell_type": "code",
   "execution_count": 6,
   "metadata": {},
   "outputs": [
    {
     "name": "stdout",
     "output_type": "stream",
     "text": [
      "<class 'pandas.core.frame.DataFrame'>\n",
      "RangeIndex: 381319 entries, 0 to 381318\n",
      "Data columns (total 3 columns):\n",
      "tweet_id            381319 non-null int64\n",
      "user_screen_name    381319 non-null object\n",
      "hastags             381319 non-null object\n",
      "dtypes: int64(1), object(2)\n",
      "memory usage: 8.7+ MB\n"
     ]
    }
   ],
   "source": [
    "tweet_id=data_raw['tweet_id'].values\n",
    "csv_file_hashtag = 'Data/Output_v5_hash.csv'\n",
    "hash_raw =pd.read_csv(csv_file_hashtag, quotechar='\"',low_memory=False, error_bad_lines=False)\n",
    "hash_raw.info()\n",
    "#print(hashtags_raw)"
   ]
  },
  {
   "cell_type": "code",
   "execution_count": 7,
   "metadata": {},
   "outputs": [],
   "source": [
    "\n",
    "hash_raw=hash_raw[hash_raw['tweet_id'].isin(tweet_id)]\n",
    "hash_raw.drop(['user_screen_name'],axis=1,inplace=True)\n",
    "csv_file_hashtag = 'Data/Output_v5_hash_anonim.csv'\n",
    "hash_raw.to_csv(csv_file_hashtag, quotechar='\"', index=False)"
   ]
  },
  {
   "cell_type": "code",
   "execution_count": 8,
   "metadata": {},
   "outputs": [],
   "source": [
    "csv_file_hashtag = 'Data/Output_v5_ment.csv'\n",
    "ment_raw =pd.read_csv(csv_file_hashtag, quotechar='\"',low_memory=False, error_bad_lines=False)\n",
    "#print(mentions_raw)\n",
    "ment_raw=ment_raw[ment_raw['tweet_id'].str.isdigit()]\n",
    "ment_raw['tweet_id']=ment_raw['tweet_id'].astype('int64')"
   ]
  },
  {
   "cell_type": "code",
   "execution_count": 9,
   "metadata": {},
   "outputs": [],
   "source": [
    "ment_raw=ment_raw[ment_raw['tweet_id'].isin(tweet_id)]\n",
    "ment_raw['user_mentioner']=ment_raw['user_mentioner'].apply(lambda x: str(hashlib.md5(str(x).encode()).hexdigest()))\n",
    "ment_raw['user_mentionated']=ment_raw['user_mentionated'].apply(lambda x: str(hashlib.md5(str(x).encode()).hexdigest()))\n",
    "\n",
    "\n",
    "csv_file_hashtag = 'Data/Output_v5_ment_anonim.csv'\n",
    "ment_raw.to_csv(csv_file_hashtag, quotechar='\"', index=False)"
   ]
  },
  {
   "cell_type": "code",
   "execution_count": null,
   "metadata": {},
   "outputs": [],
   "source": []
  }
 ],
 "metadata": {
  "kernelspec": {
   "display_name": "Python 3",
   "language": "python",
   "name": "python3"
  },
  "language_info": {
   "codemirror_mode": {
    "name": "ipython",
    "version": 3
   },
   "file_extension": ".py",
   "mimetype": "text/x-python",
   "name": "python",
   "nbconvert_exporter": "python",
   "pygments_lexer": "ipython3",
   "version": "3.6.12"
  }
 },
 "nbformat": 4,
 "nbformat_minor": 4
}
